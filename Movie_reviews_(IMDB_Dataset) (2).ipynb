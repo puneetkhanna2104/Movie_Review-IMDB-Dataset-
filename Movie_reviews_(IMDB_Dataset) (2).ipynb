{
  "nbformat": 4,
  "nbformat_minor": 0,
  "metadata": {
    "colab": {
      "name": "Movie reviews (IMDB Dataset)",
      "version": "0.3.2",
      "provenance": [],
      "collapsed_sections": []
    },
    "kernelspec": {
      "name": "python3",
      "display_name": "Python 3"
    },
    "accelerator": "GPU"
  },
  "cells": [
    {
      "cell_type": "markdown",
      "metadata": {
        "id": "dADvpgeGoKow",
        "colab_type": "text"
      },
      "source": [
        "## Importing imdb dataset from datasets module of keras "
      ]
    },
    {
      "cell_type": "code",
      "metadata": {
        "id": "i9qI_drDn14o",
        "colab_type": "code",
        "colab": {}
      },
      "source": [
        "from keras.datasets import imdb\n",
        "import numpy as np"
      ],
      "execution_count": 0,
      "outputs": []
    },
    {
      "cell_type": "markdown",
      "metadata": {
        "id": "PZv3bYuIyKof",
        "colab_type": "text"
      },
      "source": [
        "### Loading the imdb data and dividing it into training and testing features and labels \n",
        "\n",
        " The argument num_words=10000 means you’ll only keep the top 10,000 most frequently\n",
        " occurring words in the training data. Rare words will be discarded. This allows\n",
        " you to work with vector data of manageable size"
      ]
    },
    {
      "cell_type": "code",
      "metadata": {
        "id": "RG4HyAGgoCIU",
        "colab_type": "code",
        "colab": {}
      },
      "source": [
        "(train_data,train_labels),(test_data,test_labels)=imdb.load_data(num_words=10000)"
      ],
      "execution_count": 0,
      "outputs": []
    },
    {
      "cell_type": "markdown",
      "metadata": {
        "id": "QlLchvITzAOi",
        "colab_type": "text"
      },
      "source": [
        "\n",
        "###train_data and test_data are lists of reviews; each review is a list of word indices(encodinng a sequence of words)"
      ]
    },
    {
      "cell_type": "code",
      "metadata": {
        "id": "vhqdlnsZoe-2",
        "colab_type": "code",
        "outputId": "51ab99fb-afc3-4d70-8be2-879294b69662",
        "colab": {
          "base_uri": "https://localhost:8080/",
          "height": 3796
        }
      },
      "source": [
        "# first review \n",
        "train_data[0]"
      ],
      "execution_count": 74,
      "outputs": [
        {
          "output_type": "execute_result",
          "data": {
            "text/plain": [
              "[1,\n",
              " 14,\n",
              " 22,\n",
              " 16,\n",
              " 43,\n",
              " 530,\n",
              " 973,\n",
              " 1622,\n",
              " 1385,\n",
              " 65,\n",
              " 458,\n",
              " 4468,\n",
              " 66,\n",
              " 3941,\n",
              " 4,\n",
              " 173,\n",
              " 36,\n",
              " 256,\n",
              " 5,\n",
              " 25,\n",
              " 100,\n",
              " 43,\n",
              " 838,\n",
              " 112,\n",
              " 50,\n",
              " 670,\n",
              " 2,\n",
              " 9,\n",
              " 35,\n",
              " 480,\n",
              " 284,\n",
              " 5,\n",
              " 150,\n",
              " 4,\n",
              " 172,\n",
              " 112,\n",
              " 167,\n",
              " 2,\n",
              " 336,\n",
              " 385,\n",
              " 39,\n",
              " 4,\n",
              " 172,\n",
              " 4536,\n",
              " 1111,\n",
              " 17,\n",
              " 546,\n",
              " 38,\n",
              " 13,\n",
              " 447,\n",
              " 4,\n",
              " 192,\n",
              " 50,\n",
              " 16,\n",
              " 6,\n",
              " 147,\n",
              " 2025,\n",
              " 19,\n",
              " 14,\n",
              " 22,\n",
              " 4,\n",
              " 1920,\n",
              " 4613,\n",
              " 469,\n",
              " 4,\n",
              " 22,\n",
              " 71,\n",
              " 87,\n",
              " 12,\n",
              " 16,\n",
              " 43,\n",
              " 530,\n",
              " 38,\n",
              " 76,\n",
              " 15,\n",
              " 13,\n",
              " 1247,\n",
              " 4,\n",
              " 22,\n",
              " 17,\n",
              " 515,\n",
              " 17,\n",
              " 12,\n",
              " 16,\n",
              " 626,\n",
              " 18,\n",
              " 2,\n",
              " 5,\n",
              " 62,\n",
              " 386,\n",
              " 12,\n",
              " 8,\n",
              " 316,\n",
              " 8,\n",
              " 106,\n",
              " 5,\n",
              " 4,\n",
              " 2223,\n",
              " 5244,\n",
              " 16,\n",
              " 480,\n",
              " 66,\n",
              " 3785,\n",
              " 33,\n",
              " 4,\n",
              " 130,\n",
              " 12,\n",
              " 16,\n",
              " 38,\n",
              " 619,\n",
              " 5,\n",
              " 25,\n",
              " 124,\n",
              " 51,\n",
              " 36,\n",
              " 135,\n",
              " 48,\n",
              " 25,\n",
              " 1415,\n",
              " 33,\n",
              " 6,\n",
              " 22,\n",
              " 12,\n",
              " 215,\n",
              " 28,\n",
              " 77,\n",
              " 52,\n",
              " 5,\n",
              " 14,\n",
              " 407,\n",
              " 16,\n",
              " 82,\n",
              " 2,\n",
              " 8,\n",
              " 4,\n",
              " 107,\n",
              " 117,\n",
              " 5952,\n",
              " 15,\n",
              " 256,\n",
              " 4,\n",
              " 2,\n",
              " 7,\n",
              " 3766,\n",
              " 5,\n",
              " 723,\n",
              " 36,\n",
              " 71,\n",
              " 43,\n",
              " 530,\n",
              " 476,\n",
              " 26,\n",
              " 400,\n",
              " 317,\n",
              " 46,\n",
              " 7,\n",
              " 4,\n",
              " 2,\n",
              " 1029,\n",
              " 13,\n",
              " 104,\n",
              " 88,\n",
              " 4,\n",
              " 381,\n",
              " 15,\n",
              " 297,\n",
              " 98,\n",
              " 32,\n",
              " 2071,\n",
              " 56,\n",
              " 26,\n",
              " 141,\n",
              " 6,\n",
              " 194,\n",
              " 7486,\n",
              " 18,\n",
              " 4,\n",
              " 226,\n",
              " 22,\n",
              " 21,\n",
              " 134,\n",
              " 476,\n",
              " 26,\n",
              " 480,\n",
              " 5,\n",
              " 144,\n",
              " 30,\n",
              " 5535,\n",
              " 18,\n",
              " 51,\n",
              " 36,\n",
              " 28,\n",
              " 224,\n",
              " 92,\n",
              " 25,\n",
              " 104,\n",
              " 4,\n",
              " 226,\n",
              " 65,\n",
              " 16,\n",
              " 38,\n",
              " 1334,\n",
              " 88,\n",
              " 12,\n",
              " 16,\n",
              " 283,\n",
              " 5,\n",
              " 16,\n",
              " 4472,\n",
              " 113,\n",
              " 103,\n",
              " 32,\n",
              " 15,\n",
              " 16,\n",
              " 5345,\n",
              " 19,\n",
              " 178,\n",
              " 32]"
            ]
          },
          "metadata": {
            "tags": []
          },
          "execution_count": 74
        }
      ]
    },
    {
      "cell_type": "markdown",
      "metadata": {
        "id": "kyxDUwo0ybEl",
        "colab_type": "text"
      },
      "source": [
        "###Length of the train_data i.e total number of reviews in train data "
      ]
    },
    {
      "cell_type": "code",
      "metadata": {
        "id": "HfDWquB5vq4t",
        "colab_type": "code",
        "outputId": "b0c4fd90-3a01-4b04-a42c-5d6ebfed86ac",
        "colab": {
          "base_uri": "https://localhost:8080/",
          "height": 35
        }
      },
      "source": [
        "len(train_data)"
      ],
      "execution_count": 75,
      "outputs": [
        {
          "output_type": "execute_result",
          "data": {
            "text/plain": [
              "25000"
            ]
          },
          "metadata": {
            "tags": []
          },
          "execution_count": 75
        }
      ]
    },
    {
      "cell_type": "markdown",
      "metadata": {
        "id": "IIWCxGBMygIn",
        "colab_type": "text"
      },
      "source": [
        "###Length of the test_data i.e total number of reviews in testing data "
      ]
    },
    {
      "cell_type": "code",
      "metadata": {
        "id": "4hvevKyZvtrT",
        "colab_type": "code",
        "outputId": "8a5cc04e-4e2e-44e3-98b3-99601c1aedbf",
        "colab": {
          "base_uri": "https://localhost:8080/",
          "height": 35
        }
      },
      "source": [
        "len(test_data)"
      ],
      "execution_count": 76,
      "outputs": [
        {
          "output_type": "execute_result",
          "data": {
            "text/plain": [
              "25000"
            ]
          },
          "metadata": {
            "tags": []
          },
          "execution_count": 76
        }
      ]
    },
    {
      "cell_type": "markdown",
      "metadata": {
        "id": "hrsQNOCW0iwq",
        "colab_type": "text"
      },
      "source": [
        "###Shape of train_data and test_data "
      ]
    },
    {
      "cell_type": "code",
      "metadata": {
        "id": "ZJyFSBMywHNQ",
        "colab_type": "code",
        "outputId": "b876b7a2-e6a9-4478-ee6e-e3b4c338043c",
        "colab": {
          "base_uri": "https://localhost:8080/",
          "height": 52
        }
      },
      "source": [
        "print(train_data.shape)\n",
        "print(test_data.shape)"
      ],
      "execution_count": 77,
      "outputs": [
        {
          "output_type": "stream",
          "text": [
            "(25000,)\n",
            "(25000,)\n"
          ],
          "name": "stdout"
        }
      ]
    },
    {
      "cell_type": "markdown",
      "metadata": {
        "id": "xIU0vWg80y5w",
        "colab_type": "text"
      },
      "source": [
        "###train_labels and test_labels are lists of 0s and 1s, where 0 stand for negative nad 1 stands for positive "
      ]
    },
    {
      "cell_type": "code",
      "metadata": {
        "id": "0Lfu8hi7o7ti",
        "colab_type": "code",
        "outputId": "96719b76-82df-4c0b-9d95-1df90caa3948",
        "colab": {
          "base_uri": "https://localhost:8080/",
          "height": 35
        }
      },
      "source": [
        "# label of first review \n",
        "train_labels[0]"
      ],
      "execution_count": 78,
      "outputs": [
        {
          "output_type": "execute_result",
          "data": {
            "text/plain": [
              "1"
            ]
          },
          "metadata": {
            "tags": []
          },
          "execution_count": 78
        }
      ]
    },
    {
      "cell_type": "markdown",
      "metadata": {
        "id": "G6ZEGTpD1wG5",
        "colab_type": "text"
      },
      "source": [
        "###Every word has a index saved in a dictionary \n",
        "Getting the word index dictionary of imdb dataset \n"
      ]
    },
    {
      "cell_type": "code",
      "metadata": {
        "id": "IZppTdPhqB2w",
        "colab_type": "code",
        "colab": {}
      },
      "source": [
        "word_index= imdb.get_word_index()\n",
        "\n",
        "# here thw key is the word and value is the index ---- {'apple':2256}"
      ],
      "execution_count": 0,
      "outputs": []
    },
    {
      "cell_type": "markdown",
      "metadata": {
        "id": "_LUYKzho2OV8",
        "colab_type": "text"
      },
      "source": [
        "###Reversing the word index dictionary so that  we can access the words with the help of indices."
      ]
    },
    {
      "cell_type": "code",
      "metadata": {
        "id": "sBno-rX_qy-U",
        "colab_type": "code",
        "colab": {}
      },
      "source": [
        "reverse_word_index = dict([(value,key) for (key,value) in word_index.items()])\n",
        "\n",
        "# here the key is the index and value is the word -----{2256:'apple'}"
      ],
      "execution_count": 0,
      "outputs": []
    },
    {
      "cell_type": "markdown",
      "metadata": {
        "id": "PNN7IWYT2nvH",
        "colab_type": "text"
      },
      "source": [
        "### Decoding  the review.\n",
        "###Note that the indices are offset by 3 because 0, 1, and 2 are reserved indices for “padding,” “start of sequence,” and “unknown.”"
      ]
    },
    {
      "cell_type": "code",
      "metadata": {
        "id": "WCM7ztd7q_uD",
        "colab_type": "code",
        "outputId": "7cdd4588-a606-4bd5-9cb4-946c8e24de43",
        "colab": {
          "base_uri": "https://localhost:8080/",
          "height": 55
        }
      },
      "source": [
        "# decoding the first review train_data[0]\n",
        "decoded_review = ' '.join([reverse_word_index.get(i-3 , '?') for i in train_data[0]])\n",
        "\n",
        "\n",
        "decoded_review"
      ],
      "execution_count": 81,
      "outputs": [
        {
          "output_type": "execute_result",
          "data": {
            "text/plain": [
              "\"? this film was just brilliant casting location scenery story direction everyone's really suited the part they played and you could just imagine being there robert ? is an amazing actor and now the same being director ? father came from the same scottish island as myself so i loved the fact there was a real connection with this film the witty remarks throughout the film were great it was just brilliant so much that i bought the film as soon as it was released for ? and would recommend it to everyone to watch and the fly fishing was amazing really cried at the end it was so sad and you know what they say if you cry at a film it must have been good and this definitely was also ? to the two little boy's that played the ? of norman and paul they were just brilliant children are often left out of the ? list i think because the stars that play them all grown up are such a big profile for the whole film but these children are amazing and should be praised for what they have done don't you think the whole story was so lovely because it was true and was someone's life after all that was shared with us all\""
            ]
          },
          "metadata": {
            "tags": []
          },
          "execution_count": 81
        }
      ]
    },
    {
      "cell_type": "markdown",
      "metadata": {
        "id": "HslLSsazsoF7",
        "colab_type": "text"
      },
      "source": [
        "###You can't feed lists of integers into a neural network. You have to turn your lists into tensors. There are two ways to do that:\n",
        "\n",
        "1 - Pad your lists so that they all have the same length, turn them into an integer tensor of shape (samples, word_indices), and then use as the first layer in\n",
        "your network a layer capable of handling such integer tensors.\n",
        "\n",
        "\n",
        "2 - One-hot encode your lists to turn them into vectors of 0s and 1s. This would\n",
        "mean, for instance, turning the sequence [3, 5] into a 10,000-dimensional vector\n",
        "that would be all 0s except for indices 3 and 5, which would be 1s. Then you\n",
        "could use as the first layer in your network a Dense layer, capable of handling\n",
        "floating-point vector data.\n",
        "\n",
        "\n",
        "Let’s go with the latter solution to vectorize the data, which we’ll do manually for\n",
        "maximum clarity.\n",
        "\n"
      ]
    },
    {
      "cell_type": "code",
      "metadata": {
        "id": "1bpTumN1rdPU",
        "colab_type": "code",
        "colab": {}
      },
      "source": [
        "def vectorize_sequences(sequences, dimension=10000):\n",
        "  \n",
        "  #creatinng all-zero matrix of shape(len(sequence),dimension)\n",
        "  results = np.zeros((len(sequences),dimension))  \n",
        "  \n",
        "  #set specific indices of results[i] to 1 \n",
        "  for i,sequence in enumerate(sequences):\n",
        "    results[i,sequence] = 1                    # result[row,column]=1\n",
        "  return results \n",
        "  \n",
        "x_train=vectorize_sequences(train_data)\n",
        "x_test=vectorize_sequences(test_data)"
      ],
      "execution_count": 0,
      "outputs": []
    },
    {
      "cell_type": "markdown",
      "metadata": {
        "id": "_YCMMlI19PZw",
        "colab_type": "text"
      },
      "source": [
        "Vectorized data "
      ]
    },
    {
      "cell_type": "code",
      "metadata": {
        "id": "WK7Slc04rdIg",
        "colab_type": "code",
        "outputId": "d0cfafa8-ea97-4d6e-e0b9-4bca0628c84f",
        "colab": {
          "base_uri": "https://localhost:8080/",
          "height": 35
        }
      },
      "source": [
        "x_train[0]"
      ],
      "execution_count": 84,
      "outputs": [
        {
          "output_type": "execute_result",
          "data": {
            "text/plain": [
              "array([0., 1., 1., ..., 0., 0., 0.])"
            ]
          },
          "metadata": {
            "tags": []
          },
          "execution_count": 84
        }
      ]
    },
    {
      "cell_type": "markdown",
      "metadata": {
        "id": "HzAGvJe79UaN",
        "colab_type": "text"
      },
      "source": [
        "###Vectorizing Labels \n",
        "\n",
        "Labels are already in the form of 1's and 0's ,so we just need to change the  type of labels to float32"
      ]
    },
    {
      "cell_type": "code",
      "metadata": {
        "id": "WGV7AiRbrYG1",
        "colab_type": "code",
        "colab": {}
      },
      "source": [
        "y_train= np.asarray(train_labels).astype('float32')\n",
        "y_test = np.asarray(test_labels).astype('float32')"
      ],
      "execution_count": 0,
      "outputs": []
    },
    {
      "cell_type": "code",
      "metadata": {
        "id": "cLWvRslq95My",
        "colab_type": "code",
        "colab": {
          "base_uri": "https://localhost:8080/",
          "height": 35
        },
        "outputId": "96a460c3-4a7f-439c-d1d6-2fcb757e948e"
      },
      "source": [
        "y_train"
      ],
      "execution_count": 86,
      "outputs": [
        {
          "output_type": "execute_result",
          "data": {
            "text/plain": [
              "array([1., 0., 0., ..., 0., 1., 0.], dtype=float32)"
            ]
          },
          "metadata": {
            "tags": []
          },
          "execution_count": 86
        }
      ]
    },
    {
      "cell_type": "code",
      "metadata": {
        "id": "G4kibEg-9-Ow",
        "colab_type": "code",
        "colab": {
          "base_uri": "https://localhost:8080/",
          "height": 35
        },
        "outputId": "32a13549-fd28-4369-d13b-95f18323960b"
      },
      "source": [
        "y_train[0]"
      ],
      "execution_count": 87,
      "outputs": [
        {
          "output_type": "execute_result",
          "data": {
            "text/plain": [
              "1.0"
            ]
          },
          "metadata": {
            "tags": []
          },
          "execution_count": 87
        }
      ]
    },
    {
      "cell_type": "markdown",
      "metadata": {
        "id": "9tHESKJ4zF4T",
        "colab_type": "text"
      },
      "source": [
        "Now the data is ready to feed into a neural network.\n",
        "\n",
        "\n",
        "##Creating model \n"
      ]
    },
    {
      "cell_type": "code",
      "metadata": {
        "id": "D5BnbrBByft-",
        "colab_type": "code",
        "colab": {}
      },
      "source": [
        "from keras import models \n",
        "from keras import layers "
      ],
      "execution_count": 0,
      "outputs": []
    },
    {
      "cell_type": "code",
      "metadata": {
        "id": "xfKoEVlvzqUP",
        "colab_type": "code",
        "colab": {}
      },
      "source": [
        "model = models.Sequential()                                          # model is sequential \n",
        "\n",
        "model.add(layers.Dense(16, activation='relu', input_shape=(10000,))) # Adding First layer with 16 neurons to the model \n",
        "\n",
        "model.add(layers.Dense(16, activation='relu'))                       # Adding second layer with 16 neurons \n",
        "\n",
        "#model.add(layers.Dense(8, activation='relu'))                       # Adding third layer with 8 neurons \n",
        "\n",
        "model.add(layers.Dense(1 , activation='sigmoid'))                    # Adding output layer with one neurons and sigmoid activation function.\n"
      ],
      "execution_count": 0,
      "outputs": []
    },
    {
      "cell_type": "markdown",
      "metadata": {
        "id": "Vg30aHoM-8MT",
        "colab_type": "text"
      },
      "source": [
        "###Summary of  the model "
      ]
    },
    {
      "cell_type": "code",
      "metadata": {
        "id": "U8R43RlE-4rY",
        "colab_type": "code",
        "colab": {
          "base_uri": "https://localhost:8080/",
          "height": 243
        },
        "outputId": "2c1123e5-6a09-4f12-a60b-914e1c39207b"
      },
      "source": [
        "model.summary()"
      ],
      "execution_count": 90,
      "outputs": [
        {
          "output_type": "stream",
          "text": [
            "_________________________________________________________________\n",
            "Layer (type)                 Output Shape              Param #   \n",
            "=================================================================\n",
            "dense_10 (Dense)             (None, 16)                160016    \n",
            "_________________________________________________________________\n",
            "dense_11 (Dense)             (None, 16)                272       \n",
            "_________________________________________________________________\n",
            "dense_12 (Dense)             (None, 1)                 17        \n",
            "=================================================================\n",
            "Total params: 160,305\n",
            "Trainable params: 160,305\n",
            "Non-trainable params: 0\n",
            "_________________________________________________________________\n"
          ],
          "name": "stdout"
        }
      ]
    },
    {
      "cell_type": "markdown",
      "metadata": {
        "id": "ch9blzrB0bWb",
        "colab_type": "text"
      },
      "source": [
        "###Choosing a loss function and an optimizer .\n",
        "\n",
        "Because you’re facing a\n",
        "binary classification problem and the output of your network is a probability (you end\n",
        "your network with a single-unit layer with a sigmoid activation), it’s best to use the binary_crossentropy loss.\n"
      ]
    },
    {
      "cell_type": "code",
      "metadata": {
        "id": "EvEw7oti0J0_",
        "colab_type": "code",
        "colab": {}
      },
      "source": [
        "model.compile(optimizer='rmsprop'\n",
        "             ,loss='binary_crossentropy'\n",
        "             ,metrics=['accuracy'])\n"
      ],
      "execution_count": 0,
      "outputs": []
    },
    {
      "cell_type": "markdown",
      "metadata": {
        "id": "nIg67Iub4ily",
        "colab_type": "text"
      },
      "source": [
        "###Splitting the data into training and validationn data \n",
        "In order to monitor during training the accuracy of the model on data it has never\n",
        "seen before, you’ll create a validation set by setting apart 10,000 samples from the\n",
        "original training data."
      ]
    },
    {
      "cell_type": "code",
      "metadata": {
        "id": "VQbmilcN2bK3",
        "colab_type": "code",
        "colab": {}
      },
      "source": [
        "x_val = x_train[:10000]\n",
        "partial_x_train = x_train[10000:]\n",
        "\n",
        "y_val = y_train[:10000]\n",
        "partial_y_train = y_train[10000:]\n",
        "\n"
      ],
      "execution_count": 0,
      "outputs": []
    },
    {
      "cell_type": "markdown",
      "metadata": {
        "id": "v3dMa346_dxy",
        "colab_type": "text"
      },
      "source": [
        "##Training the Model "
      ]
    },
    {
      "cell_type": "code",
      "metadata": {
        "id": "jWXX2sQU4-_a",
        "colab_type": "code",
        "outputId": "a8c5b169-2818-4fd5-e684-d39c2b0caa43",
        "colab": {
          "base_uri": "https://localhost:8080/",
          "height": 381
        }
      },
      "source": [
        "history = model.fit(partial_x_train,\n",
        "                    partial_y_train,\n",
        "                    epochs=10,\n",
        "                    batch_size=512,\n",
        "                    validation_data=(x_val, y_val))"
      ],
      "execution_count": 93,
      "outputs": [
        {
          "output_type": "stream",
          "text": [
            "Train on 15000 samples, validate on 10000 samples\n",
            "Epoch 1/10\n",
            "15000/15000 [==============================] - 2s 162us/step - loss: 0.5084 - acc: 0.7813 - val_loss: 0.3797 - val_acc: 0.8684\n",
            "Epoch 2/10\n",
            "15000/15000 [==============================] - 2s 129us/step - loss: 0.3004 - acc: 0.9047 - val_loss: 0.3004 - val_acc: 0.8897\n",
            "Epoch 3/10\n",
            "15000/15000 [==============================] - 2s 127us/step - loss: 0.2179 - acc: 0.9285 - val_loss: 0.3085 - val_acc: 0.8711\n",
            "Epoch 4/10\n",
            "15000/15000 [==============================] - 2s 127us/step - loss: 0.1750 - acc: 0.9437 - val_loss: 0.2840 - val_acc: 0.8832\n",
            "Epoch 5/10\n",
            "15000/15000 [==============================] - 2s 127us/step - loss: 0.1427 - acc: 0.9543 - val_loss: 0.2841 - val_acc: 0.8872\n",
            "Epoch 6/10\n",
            "15000/15000 [==============================] - 2s 127us/step - loss: 0.1150 - acc: 0.9650 - val_loss: 0.3166 - val_acc: 0.8772\n",
            "Epoch 7/10\n",
            "15000/15000 [==============================] - 2s 131us/step - loss: 0.0980 - acc: 0.9705 - val_loss: 0.3127 - val_acc: 0.8846\n",
            "Epoch 8/10\n",
            "15000/15000 [==============================] - 2s 133us/step - loss: 0.0807 - acc: 0.9763 - val_loss: 0.3859 - val_acc: 0.8649\n",
            "Epoch 9/10\n",
            "15000/15000 [==============================] - 2s 132us/step - loss: 0.0661 - acc: 0.9821 - val_loss: 0.3635 - val_acc: 0.8782\n",
            "Epoch 10/10\n",
            "15000/15000 [==============================] - 2s 131us/step - loss: 0.0561 - acc: 0.9853 - val_loss: 0.3842 - val_acc: 0.8792\n"
          ],
          "name": "stdout"
        }
      ]
    },
    {
      "cell_type": "markdown",
      "metadata": {
        "id": "Qoqw7oSl9UTX",
        "colab_type": "text"
      },
      "source": [
        "###model.fit() returns a History object. This object has a member history, which is a dictionary containing data about everything that happened during training. Let’s look at it:"
      ]
    },
    {
      "cell_type": "code",
      "metadata": {
        "id": "5mUAL3ct5JgS",
        "colab_type": "code",
        "outputId": "543d050f-ccb7-48fe-dccd-cac1b161ae3b",
        "colab": {
          "base_uri": "https://localhost:8080/",
          "height": 35
        }
      },
      "source": [
        "history_dict = history.history\n",
        "history_dict.keys()"
      ],
      "execution_count": 94,
      "outputs": [
        {
          "output_type": "execute_result",
          "data": {
            "text/plain": [
              "dict_keys(['val_loss', 'val_acc', 'loss', 'acc'])"
            ]
          },
          "metadata": {
            "tags": []
          },
          "execution_count": 94
        }
      ]
    },
    {
      "cell_type": "code",
      "metadata": {
        "id": "K3LTn2Dq6gwj",
        "colab_type": "code",
        "outputId": "3710422c-6fe1-4fa0-8b4c-e6b32e34ca6a",
        "colab": {
          "base_uri": "https://localhost:8080/",
          "height": 295
        }
      },
      "source": [
        "import matplotlib.pyplot as plt \n",
        "\n",
        "history_dict = history.history\n",
        "loss_values = history_dict['loss']\n",
        "val_loss_values = history_dict['val_loss']\n",
        "acc=history_dict['acc']\n",
        "val_acc = history_dict['val_acc']\n",
        "\n",
        "epochs = range(1, len(acc) + 1)\n",
        "\n",
        "plt.plot(epochs, loss_values, 'bo', label='Training loss')       # 'bo' is for blue dot \n",
        "plt.plot(epochs, val_loss_values, 'b', label='Validation loss')  # 'b' is for blue line \n",
        "plt.title('Training and Validation loss')\n",
        "plt.xlabel('Epochs')\n",
        "plt.ylabel('loss')\n",
        "plt.legend()\n",
        "\n",
        "plt.show()"
      ],
      "execution_count": 95,
      "outputs": [
        {
          "output_type": "display_data",
          "data": {
            "image/png": "[encoded data removed]",
            "text/plain": [
              "<Figure size 432x288 with 1 Axes>"
            ]
          },
          "metadata": {
            "tags": []
          }
        }
      ]
    },
    {
      "cell_type": "code",
      "metadata": {
        "id": "YyLo6rto8oub",
        "colab_type": "code",
        "outputId": "cc83d0ac-b869-45aa-cdcc-db03d34cce7e",
        "colab": {
          "base_uri": "https://localhost:8080/",
          "height": 295
        }
      },
      "source": [
        "plt.plot(epochs,acc,'bo',label=\"training accuracy\")\n",
        "plt.plot(epochs,val_acc,'b',label=\"validation accuracy\")\n",
        "plt.title('training and validation accuracy')\n",
        "plt.xlabel('Epochs')\n",
        "plt.ylabel('Loss')\n",
        "plt.legend()\n",
        "\n",
        "plt.show()"
      ],
      "execution_count": 100,
      "outputs": [
        {
          "output_type": "display_data",
          "data": {
            "image/png": "[encoded data removed]",
            "text/plain": [
              "<Figure size 432x288 with 1 Axes>"
            ]
          },
          "metadata": {
            "tags": []
          }
        }
      ]
    },
    {
      "cell_type": "markdown",
      "metadata": {
        "id": "MznvPvjtAljc",
        "colab_type": "text"
      },
      "source": [
        "###Overfitting \n",
        "As you can see, the training loss decreases with every epoch, and the training accuracy\n",
        "increases with every epoch. That’s what you would expect when running gradientdescent\n",
        "optimization—the quantity you’re trying to minimize should be less with\n",
        "every iteration. But that isn’t the case for the validation loss and accuracy: they seem to\n",
        "peak at the fourth epoch. This is an example of overfitting: a\n",
        "model that performs better on the training data isn’t necessarily a model that will do\n",
        "better on data it has never seen before. In precise terms, what you’re seeing is overfitting:\n",
        "after the second epoch, you’re overoptimizing on the training data, and you end\n",
        "up learning representations that are specific to the training data and don’t generalize\n",
        "to data outside of the training set.\n",
        "\n",
        "In  this case, to prevent overfitting, we could simply stop training after four epochs"
      ]
    },
    {
      "cell_type": "code",
      "metadata": {
        "id": "uLwEd5tAAI53",
        "colab_type": "code",
        "outputId": "4c77ae89-8d2a-4fb5-cd46-f52be0588f3d",
        "colab": {
          "base_uri": "https://localhost:8080/",
          "height": 173
        }
      },
      "source": [
        "# Retraining a model from scratch \n",
        "\n",
        "model.fit(x_train, y_train, epochs=4, batch_size=512)"
      ],
      "execution_count": 97,
      "outputs": [
        {
          "output_type": "stream",
          "text": [
            "Epoch 1/4\n",
            "25000/25000 [==============================] - 2s 83us/step - loss: 0.1800 - acc: 0.9442\n",
            "Epoch 2/4\n",
            "25000/25000 [==============================] - 2s 81us/step - loss: 0.1326 - acc: 0.9575\n",
            "Epoch 3/4\n",
            "25000/25000 [==============================] - 2s 79us/step - loss: 0.1114 - acc: 0.9638\n",
            "Epoch 4/4\n",
            "25000/25000 [==============================] - 2s 79us/step - loss: 0.0923 - acc: 0.9700\n",
            "25000/25000 [==============================] - 2s 83us/step\n"
          ],
          "name": "stdout"
        }
      ]
    },
    {
      "cell_type": "markdown",
      "metadata": {
        "id": "ri0iBWjMIEwP",
        "colab_type": "text"
      },
      "source": [
        "##Testing the model "
      ]
    },
    {
      "cell_type": "code",
      "metadata": {
        "id": "BMNh04VfAzcK",
        "colab_type": "code",
        "outputId": "1118352b-d242-46ed-b77b-330b7e42098f",
        "colab": {
          "base_uri": "https://localhost:8080/",
          "height": 52
        }
      },
      "source": [
        "results = model.evaluate(x_test, y_test)\n",
        "\n",
        "print('test loss =',results[0])\n",
        "print('test accuracy =',results[1])"
      ],
      "execution_count": 98,
      "outputs": [
        {
          "output_type": "stream",
          "text": [
            "test loss = 0.4232883271145821\n",
            "test accuracy = 0.8634\n"
          ],
          "name": "stdout"
        }
      ]
    },
    {
      "cell_type": "markdown",
      "metadata": {
        "id": "x4lE3yxjISxq",
        "colab_type": "text"
      },
      "source": [
        "###Predicting using the trained Model \n",
        "Sigmoid function gives decimal value between 0 and 1. \n",
        "\n",
        "The values that are closer to 1 are positive reviews and that are closer to 0 are negative reviews "
      ]
    },
    {
      "cell_type": "code",
      "metadata": {
        "id": "sJnD3ILVA3YL",
        "colab_type": "code",
        "outputId": "f6ca4e7a-7dc6-43c7-ff3c-5339c2594f2b",
        "colab": {
          "base_uri": "https://localhost:8080/",
          "height": 191
        }
      },
      "source": [
        "# Predicting first 10 reviews  \n",
        "model.predict(x_test[0:10])"
      ],
      "execution_count": 101,
      "outputs": [
        {
          "output_type": "execute_result",
          "data": {
            "text/plain": [
              "array([[0.04401967],\n",
              "       [0.999977  ],\n",
              "       [0.9080349 ],\n",
              "       [0.9813538 ],\n",
              "       [0.9893477 ],\n",
              "       [0.98984766],\n",
              "       [0.9995141 ],\n",
              "       [0.00133705],\n",
              "       [0.97469646],\n",
              "       [0.99992526]], dtype=float32)"
            ]
          },
          "metadata": {
            "tags": []
          },
          "execution_count": 101
        }
      ]
    }
  ]
}